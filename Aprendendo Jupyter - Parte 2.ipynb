{
 "cells": [
  {
   "cell_type": "markdown",
   "metadata": {},
   "source": [
    "# Trabalho de MAT-17 - Cônicas - JUN - 2020 - ITA\n",
    "\n",
    "## Ariel Silva Claudino - Turma 4"
   ]
  },
  {
   "cell_type": "markdown",
   "metadata": {},
   "source": [
    "Iremos, ao longo deste caderno, definir e dar exemplos gráficos das equações reduzidas das três cônicas principais: \n",
    " \n",
    "  1. **Elipse**\n",
    "  2. **Parábola**\n",
    "  3. **Hipérbole**"
   ]
  },
  {
   "cell_type": "markdown",
   "metadata": {},
   "source": [
    "## 1. Elipse\n"
   ]
  },
  {
   "cell_type": "markdown",
   "metadata": {},
   "source": [
    " A definição geométrica de elipse se dá por: Conjunto de pontod do plano cuja soma das distâncias a dois pontos dados(ditos *focos*) é **constante**. \n",
    "\n",
    "Sua equação geral, amplamente abarcada em qualuer livro texto de geomtria analítica, é dada por:\n"
   ]
  },
  {
   "cell_type": "markdown",
   "metadata": {},
   "source": [
    "$$ \\Large \\frac{x^{2}}{a^{2}} + \\frac{y^{2}}{b^{2}} = 1$$"
   ]
  },
  {
   "cell_type": "markdown",
   "metadata": {},
   "source": [
    "Onde a e b representam os valores dos semi-eixos maior e menos da elipse, respectivamente.\n",
    "\n",
    "Exemplo:"
   ]
  },
  {
   "cell_type": "markdown",
   "metadata": {},
   "source": [
    "![exemplo de uma elipse](http://www.ief.ita.br/~ferreira/_mat17/P2/img/elipse-focos-eixos.PNG \"Exemplo de Elipse\")"
   ]
  },
  {
   "cell_type": "markdown",
   "metadata": {},
   "source": [
    "## 2. Hipérbole"
   ]
  },
  {
   "cell_type": "markdown",
   "metadata": {},
   "source": [
    "A definição geométrica de hipérbole é dada por: \"Lugar de geométrico dos pontos do plano tais que a diferença de suas distâncias até dois pontos dados(ditos *focos*) é constante.\n",
    "\n",
    "Sua equação reduzida, amplamente abarcada em livros texto de geometria analítica, é dada por:\n",
    "\n",
    "$$ \\Large \\frac{x^{2}}{a^{2}} - \\frac{y^{2}}{b^{2}} = 1$$"
   ]
  },
  {
   "cell_type": "markdown",
   "metadata": {},
   "source": [
    "Onde $2a$ representa a distância entre os vértices da Hipérbole e $2b$ representa o eixo imaginário da Hipérbole. \n",
    "\n",
    "Exemplo:"
   ]
  },
  {
   "cell_type": "markdown",
   "metadata": {},
   "source": [
    "![Exemplo de Hipérbole](http://www.ief.ita.br/~ferreira/_mat17/P2/img/hiperbole-focos-eixos.PNG \"Exemplo de Hiérbole\")"
   ]
  },
  {
   "cell_type": "markdown",
   "metadata": {},
   "source": [
    "## 3. Parábola"
   ]
  },
  {
   "cell_type": "markdown",
   "metadata": {},
   "source": [
    "A definição geométrica de Parábola é dada por: \" Lugar Geométrico dos Pontos do Plano cujas distâncias a uma reta dada(dita *diretriz*) e a um ponto dado(dito *foco*) são iguais\".\n",
    "\n",
    "Sua equação reduzida, amplamente abarcada por livros texto de geometri analítica, é dada por:\n",
    "\n",
    "$$ \\Large y^{2} = 4 \\cdot p \\cdot x $$\n",
    "\n",
    "Onde $2p$(chamado *parâmetro*) é a distância entre o foco e a diretriz da Parábola.\n",
    "\n",
    "Exemplo:"
   ]
  },
  {
   "cell_type": "markdown",
   "metadata": {},
   "source": [
    "![Exemplo de Parábola](http://www.ief.ita.br/~ferreira/_mat17/P2/img/parabola-foco-diretriz-eixo.PNG \"Exemplo de Parábola\")"
   ]
  },
  {
   "cell_type": "code",
   "execution_count": null,
   "metadata": {},
   "outputs": [],
   "source": []
  }
 ],
 "metadata": {
  "kernelspec": {
   "display_name": "Python 3",
   "language": "python",
   "name": "python3"
  },
  "language_info": {
   "codemirror_mode": {
    "name": "ipython",
    "version": 3
   },
   "file_extension": ".py",
   "mimetype": "text/x-python",
   "name": "python",
   "nbconvert_exporter": "python",
   "pygments_lexer": "ipython3",
   "version": "3.8.3"
  }
 },
 "nbformat": 4,
 "nbformat_minor": 4
}
